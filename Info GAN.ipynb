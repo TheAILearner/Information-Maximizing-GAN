{
 "cells": [
  {
   "cell_type": "markdown",
   "metadata": {},
   "source": [
    "# Information Maximizing Generative Adversarial Networks"
   ]
  },
  {
   "cell_type": "markdown",
   "metadata": {},
   "source": [
    "To understand intutuion behind this model follow this blog:"
   ]
  },
  {
   "cell_type": "markdown",
   "metadata": {},
   "source": [
    "1. [Information Maximizing Generative Adversarial Network (InfoGAN): Introduction and Implementation](https://theailearner.com/2020/02/03/information-maximizing-generative-adversarial-network-infogan-introduction-and-implementation/)"
   ]
  },
  {
   "cell_type": "markdown",
   "metadata": {},
   "source": [
    "### Introduction "
   ]
  },
  {
   "cell_type": "markdown",
   "metadata": {},
   "source": [
    "InfoGAN is an extension to the generative adversarial networks. Generative adversarial networks are trained to generate new images that look similar to the original images. But they do not provide any control over the generation of the new images. Let’s say you have trained a GAN network to generate new faces that look similar to the given dataset. But there you will not have any control over these faces such as the colour of the eyes, hairstyles, etc. But with the help of InfoGAN, we can achieve these results because InfoGAN is able to learn the disentangled representation."
   ]
  },
  {
   "cell_type": "markdown",
   "metadata": {},
   "source": [
    "### Imports and Initialize Parameters"
   ]
  },
  {
   "cell_type": "code",
   "execution_count": 1,
   "metadata": {},
   "outputs": [
    {
     "name": "stderr",
     "output_type": "stream",
     "text": [
      "Using TensorFlow backend.\n"
     ]
    }
   ],
   "source": [
    "from keras.layers import Input, Dense, Reshape, BatchNormalization, LeakyReLU, Conv2DTranspose, Conv2D, AveragePooling2D, Flatten, Embedding, Concatenate\n",
    "from keras.models import Model\n",
    "from keras.utils import to_categorical\n",
    "from keras.optimizers import Adam\n",
    "from keras.datasets import mnist\n",
    "import numpy as np"
   ]
  },
  {
   "cell_type": "code",
   "execution_count": 2,
   "metadata": {},
   "outputs": [],
   "source": [
    "import tensorflow as tf\n",
    "\n",
    "#ignore warnings in the output\n",
    "tf.logging.set_verbosity(tf.logging.ERROR)"
   ]
  },
  {
   "cell_type": "code",
   "execution_count": 12,
   "metadata": {},
   "outputs": [],
   "source": [
    "(x_train, y_train), (x_test, y_test) = mnist.load_data()\n",
    "batch_size = 16\n",
    "half_batch_size = 8\n",
    "latent_dim = 100 + 10\n",
    "iterations = 60000\n",
    "optimizer = Adam(0.0002, 0.5)"
   ]
  },
  {
   "cell_type": "markdown",
   "metadata": {},
   "source": [
    "### Generator Network in InfoGAN"
   ]
  },
  {
   "cell_type": "markdown",
   "metadata": {},
   "source": [
    "Input to the generator network consists of shape (110, 1), where 100 is the noise vector size and 10 is the latent code size. Here latent codes are one-hot encoded discrete number between 0-9. I have used deconvolutional layers to upsample and finally produce the shape of (28,28,1). Batch normalization is used to improve the quality of the trained network and for stabilization."
   ]
  },
  {
   "cell_type": "code",
   "execution_count": 13,
   "metadata": {},
   "outputs": [],
   "source": [
    "def generator():\n",
    "\n",
    "    input_gen = Input(shape = (latent_dim,))\n",
    "    dense1 = Reshape((7,7,16))(Dense(7*7*16)(input_gen))\n",
    "\n",
    "    batch_norm_1 = BatchNormalization()(dense1)\n",
    "    trans_1 = Conv2DTranspose(128, 3, padding='same', activation=LeakyReLU(alpha=0.2), strides=(2, 2))(batch_norm_1)\n",
    "    batch_norm_2 = BatchNormalization()(trans_1)\n",
    "    trans_2 = Conv2DTranspose(128, 3, padding='same', activation=LeakyReLU(alpha=0.2), strides=(2, 2))(batch_norm_2)\n",
    "    output = Conv2D(1, (28,28), activation='tanh', padding='same')(trans_2)\n",
    "    gen_model = Model(input_gen, output)\n",
    "    gen_model.compile(loss='binary_crossentropy', optimizer=optimizer)\n",
    "    print(gen_model.summary())\n",
    "\n",
    "    return gen_model"
   ]
  },
  {
   "cell_type": "code",
   "execution_count": 15,
   "metadata": {},
   "outputs": [
    {
     "name": "stdout",
     "output_type": "stream",
     "text": [
      "_________________________________________________________________\n",
      "Layer (type)                 Output Shape              Param #   \n",
      "=================================================================\n",
      "input_5 (InputLayer)         (None, 110)               0         \n",
      "_________________________________________________________________\n",
      "dense_5 (Dense)              (None, 784)               87024     \n",
      "_________________________________________________________________\n",
      "reshape_3 (Reshape)          (None, 7, 7, 16)          0         \n",
      "_________________________________________________________________\n",
      "batch_normalization_8 (Batch (None, 7, 7, 16)          64        \n",
      "_________________________________________________________________\n",
      "conv2d_transpose_5 (Conv2DTr (None, 14, 14, 128)       18560     \n",
      "_________________________________________________________________\n",
      "batch_normalization_9 (Batch (None, 14, 14, 128)       512       \n",
      "_________________________________________________________________\n",
      "conv2d_transpose_6 (Conv2DTr (None, 28, 28, 128)       147584    \n",
      "_________________________________________________________________\n",
      "conv2d_6 (Conv2D)            (None, 28, 28, 1)         100353    \n",
      "=================================================================\n",
      "Total params: 354,097\n",
      "Trainable params: 353,809\n",
      "Non-trainable params: 288\n",
      "_________________________________________________________________\n",
      "None\n"
     ]
    }
   ],
   "source": [
    "generator_model = generator() "
   ]
  },
  {
   "cell_type": "markdown",
   "metadata": {},
   "source": [
    "### Discriminator and Auxiliary Network InfoGAN"
   ]
  },
  {
   "cell_type": "markdown",
   "metadata": {},
   "source": [
    "Auxiliary network shares all the weights of the discriminator network except the output layer there is no need to create two separate functions for this. Networks take images of shape (28, 28, 1) as input. convolutional, batch normalization and pooling layers are used to create the network. The output shape of the discriminator network is 1 as it only predicts the input image is real or fake. But the output shape of the auxiliary network is 10 as it predicts latent code."
   ]
  },
  {
   "cell_type": "code",
   "execution_count": 16,
   "metadata": {},
   "outputs": [],
   "source": [
    "def discriminator():\n",
    "\n",
    "    input_disc = Input(shape = (28, 28, 1))\n",
    "\n",
    "    conv_1 = Conv2D(16, 3, padding = 'same', activation = LeakyReLU(alpha=0.2))(input_disc)\n",
    "    batch_norm1 = BatchNormalization()(conv_1)\n",
    "    pool_1 = AveragePooling2D(strides = (2,2))(batch_norm1)\n",
    "    conv_2 = Conv2D(32, 3, padding = 'same', activation = LeakyReLU(alpha=0.2))(pool_1)\n",
    "    batch_norm2 = BatchNormalization()(conv_2)\n",
    "    pool_2 = AveragePooling2D(strides = (2,2))(batch_norm2)\n",
    "    conv_3 = Conv2D(64, 3, padding = 'same', activation = LeakyReLU(alpha=0.2))(pool_2)\n",
    "    batch_norm3 = BatchNormalization()(conv_3)\n",
    "    pool_3 = AveragePooling2D(strides = (2,2))(conv_3)\n",
    "    flatten_1 = Flatten()(pool_3)\n",
    "    output = Dense(1, activation = 'sigmoid')(flatten_1)\n",
    "    q_output_catgorical = Dense(10, activation = 'softmax')(flatten_1)\n",
    "    \n",
    "    disc_model = Model(input_disc, output)\n",
    "    disc_model.compile(loss='binary_crossentropy', optimizer=optimizer, metrics=['accuracy'])\n",
    "    \n",
    "    q_model = Model(input_disc, q_output_catgorical)\n",
    "    q_model.compile(loss='categorical_crossentropy', optimizer=optimizer, metrics=['accuracy'])\n",
    "    \n",
    "    print(disc_model.summary())\n",
    "    print(q_model.summary())\n",
    "\n",
    "    return disc_model, q_model"
   ]
  },
  {
   "cell_type": "code",
   "execution_count": 17,
   "metadata": {},
   "outputs": [
    {
     "name": "stdout",
     "output_type": "stream",
     "text": [
      "_________________________________________________________________\n",
      "Layer (type)                 Output Shape              Param #   \n",
      "=================================================================\n",
      "input_6 (InputLayer)         (None, 28, 28, 1)         0         \n",
      "_________________________________________________________________\n",
      "conv2d_7 (Conv2D)            (None, 28, 28, 16)        160       \n",
      "_________________________________________________________________\n",
      "batch_normalization_10 (Batc (None, 28, 28, 16)        64        \n",
      "_________________________________________________________________\n",
      "average_pooling2d_4 (Average (None, 14, 14, 16)        0         \n",
      "_________________________________________________________________\n",
      "conv2d_8 (Conv2D)            (None, 14, 14, 32)        4640      \n",
      "_________________________________________________________________\n",
      "batch_normalization_11 (Batc (None, 14, 14, 32)        128       \n",
      "_________________________________________________________________\n",
      "average_pooling2d_5 (Average (None, 7, 7, 32)          0         \n",
      "_________________________________________________________________\n",
      "conv2d_9 (Conv2D)            (None, 7, 7, 64)          18496     \n",
      "_________________________________________________________________\n",
      "average_pooling2d_6 (Average (None, 3, 3, 64)          0         \n",
      "_________________________________________________________________\n",
      "flatten_2 (Flatten)          (None, 576)               0         \n",
      "_________________________________________________________________\n",
      "dense_6 (Dense)              (None, 1)                 577       \n",
      "=================================================================\n",
      "Total params: 24,065\n",
      "Trainable params: 23,969\n",
      "Non-trainable params: 96\n",
      "_________________________________________________________________\n",
      "None\n",
      "_________________________________________________________________\n",
      "Layer (type)                 Output Shape              Param #   \n",
      "=================================================================\n",
      "input_6 (InputLayer)         (None, 28, 28, 1)         0         \n",
      "_________________________________________________________________\n",
      "conv2d_7 (Conv2D)            (None, 28, 28, 16)        160       \n",
      "_________________________________________________________________\n",
      "batch_normalization_10 (Batc (None, 28, 28, 16)        64        \n",
      "_________________________________________________________________\n",
      "average_pooling2d_4 (Average (None, 14, 14, 16)        0         \n",
      "_________________________________________________________________\n",
      "conv2d_8 (Conv2D)            (None, 14, 14, 32)        4640      \n",
      "_________________________________________________________________\n",
      "batch_normalization_11 (Batc (None, 14, 14, 32)        128       \n",
      "_________________________________________________________________\n",
      "average_pooling2d_5 (Average (None, 7, 7, 32)          0         \n",
      "_________________________________________________________________\n",
      "conv2d_9 (Conv2D)            (None, 7, 7, 64)          18496     \n",
      "_________________________________________________________________\n",
      "average_pooling2d_6 (Average (None, 3, 3, 64)          0         \n",
      "_________________________________________________________________\n",
      "flatten_2 (Flatten)          (None, 576)               0         \n",
      "_________________________________________________________________\n",
      "dense_7 (Dense)              (None, 10)                5770      \n",
      "=================================================================\n",
      "Total params: 29,258\n",
      "Trainable params: 29,162\n",
      "Non-trainable params: 96\n",
      "_________________________________________________________________\n",
      "None\n"
     ]
    }
   ],
   "source": [
    "discriminator_model, auxiliary_model = discriminator()"
   ]
  },
  {
   "cell_type": "markdown",
   "metadata": {},
   "source": [
    "### Combined Network in InfoGAN"
   ]
  },
  {
   "cell_type": "markdown",
   "metadata": {},
   "source": [
    "A combined model is created to train the generator network. Here we do discriminator network as non-trainable as discriminator network is trained separately. The combined model takes random noise and latent code as input. This input is fed to the generator network and the generated image is fed to both discriminator and auxiliary network."
   ]
  },
  {
   "cell_type": "code",
   "execution_count": 18,
   "metadata": {},
   "outputs": [],
   "source": [
    "def combined():\n",
    "\n",
    "    inputs = Input(shape = (latent_dim,)) \n",
    "    gen_img = generator_model(inputs)\n",
    "    \n",
    "    discriminator_model.trainable = False\n",
    "    \n",
    "    disc_outs = discriminator_model(gen_img)\n",
    "    q_outs = auxiliary_model(gen_img)\n",
    "    \n",
    "    comb_model = Model(inputs, [disc_outs, q_outs])\n",
    "    comb_model.compile(loss=['binary_crossentropy', 'categorical_crossentropy'], optimizer=optimizer, metrics=['accuracy'])\n",
    "    print(comb_model.summary())\n",
    "\n",
    "    return comb_model"
   ]
  },
  {
   "cell_type": "code",
   "execution_count": 19,
   "metadata": {
    "scrolled": true
   },
   "outputs": [
    {
     "name": "stdout",
     "output_type": "stream",
     "text": [
      "__________________________________________________________________________________________________\n",
      "Layer (type)                    Output Shape         Param #     Connected to                     \n",
      "==================================================================================================\n",
      "input_7 (InputLayer)            (None, 110)          0                                            \n",
      "__________________________________________________________________________________________________\n",
      "model_6 (Model)                 (None, 28, 28, 1)    354097      input_7[0][0]                    \n",
      "__________________________________________________________________________________________________\n",
      "model_7 (Model)                 (None, 1)            24065       model_6[1][0]                    \n",
      "__________________________________________________________________________________________________\n",
      "model_8 (Model)                 (None, 10)           29258       model_6[1][0]                    \n",
      "==================================================================================================\n",
      "Total params: 407,324\n",
      "Trainable params: 382,971\n",
      "Non-trainable params: 24,353\n",
      "__________________________________________________________________________________________________\n",
      "None\n"
     ]
    }
   ],
   "source": [
    "combined_model = combined()"
   ]
  },
  {
   "cell_type": "markdown",
   "metadata": {},
   "source": [
    "### Training the InfoGAN Model"
   ]
  },
  {
   "cell_type": "markdown",
   "metadata": {},
   "source": [
    "Training a GAN model is always a difficult task. A careful hyperparameter tuning is always required. We will use the following steps to train the InfoGAN model.\n",
    "\n",
    "1. Normalize the input images from the MNIST dataset.\n",
    "2. Train the discriminator model using real images from the MNIST dataset.\n",
    "3. Train the discriminator model using real images and corresponding labels.\n",
    "4. Train the discriminator model using fake images generated from the generator network.\n",
    "5. Train the auxiliary network using fake images generated from the generator and random latent codes.\n",
    "6. Train the generator network using a combined model without training the discriminator.\n",
    "7. Repeat the steps from 2-6 for some iterations. I have trained it for 60000 iterations."
   ]
  },
  {
   "cell_type": "code",
   "execution_count": 22,
   "metadata": {},
   "outputs": [],
   "source": [
    "def train():\n",
    "\n",
    "    train_data = (x_train.astype(np.float32) - 127.5) / 127.5\n",
    "    train_data = np.expand_dims(train_data, -1)\n",
    "    train_data_y = y_train\n",
    "\n",
    "    for i in range(iterations):\n",
    "\n",
    "        batch_indx = np.random.randint(0, train_data.shape[0], size = (half_batch_size))\n",
    "        batch_x = train_data[batch_indx]\n",
    "        batch_y = to_categorical(train_data_y[batch_indx], 10)\n",
    "\n",
    "        real_loss = discriminator_model.train_on_batch(batch_x, np.ones((half_batch_size,1)))\n",
    "\n",
    "        q_real_loss = auxiliary_model.train_on_batch(batch_x, batch_y)\n",
    "\n",
    "        random_y = to_categorical(np.random.randint(0,10,half_batch_size), 10)\n",
    "        input_noise = np.random.normal(0, 1, size=(half_batch_size, 100))\n",
    "        \n",
    "        gen_outs = generator_model.predict(np.hstack((input_noise, random_y)))\n",
    "\n",
    "        fake_loss = discriminator_model.train_on_batch(gen_outs, np.zeros((half_batch_size,1)))\n",
    "        q_fake_loss = auxiliary_model.train_on_batch(gen_outs, random_y)\n",
    "\n",
    "        noise = np.random.normal(0, 1, size=(batch_size, 100))\n",
    "        latent_code = to_categorical(np.random.randint(0,10,batch_size), 10)\n",
    "\n",
    "        full_batch_input_noise = np.hstack((noise, latent_code))\n",
    "\n",
    "        gan_loss = combined_model.train_on_batch(full_batch_input_noise, [np.ones((batch_size,1)), latent_code])\n",
    "        \n",
    "        if i%5000 == 0:\n",
    "            print(i, fake_loss, real_loss, gan_loss, q_real_loss, q_fake_loss)"
   ]
  },
  {
   "cell_type": "code",
   "execution_count": 23,
   "metadata": {},
   "outputs": [
    {
     "name": "stdout",
     "output_type": "stream",
     "text": [
      "0 [1.0074317, 0.0] [0.14327386, 1.0] [2.9203196, 0.56781244, 2.352507, 1.0, 0.0625] [1.8851708, 0.25] [2.3756733, 0.0]\n",
      "5000 [0.7622657, 0.125] [0.590624, 0.875] [0.63276285, 0.63077855, 0.0019843245, 0.875, 1.0] [0.3524941, 0.875] [0.02102179, 1.0]\n",
      "10000 [0.7550068, 0.125] [0.6877359, 0.375] [0.7326824, 0.7326349, 4.748634e-05, 0.125, 1.0] [0.00078241853, 1.0] [8.426499e-05, 1.0]\n",
      "15000 [0.74028, 0.0] [0.69417006, 0.5] [0.7144358, 0.7143568, 7.904324e-05, 0.25, 1.0] [1.1724569, 0.75] [5.5134353e-07, 1.0]\n",
      "20000 [0.7385715, 0.25] [0.6516497, 0.75] [0.73071253, 0.73071223, 3.1292473e-07, 0.375, 1.0] [2.7546439e-05, 1.0] [3.9190463e-06, 1.0]\n",
      "25000 [0.75472355, 0.125] [0.7017891, 0.5] [0.7123962, 0.7123961, 1.192093e-07, 0.4375, 1.0] [0.023473533, 1.0] [1.192093e-07, 1.0]\n",
      "30000 [0.76911974, 0.25] [0.6105095, 0.875] [0.7278525, 0.7278524, 1.192093e-07, 0.375, 1.0] [0.010760284, 1.0] [1.192093e-07, 1.0]\n",
      "35000 [0.7577925, 0.25] [0.71616757, 0.25] [0.7481926, 0.7481925, 1.192093e-07, 0.0625, 1.0] [2.0155911, 0.875] [1.192093e-07, 1.0]\n",
      "40000 [0.77452683, 0.0] [0.66198266, 0.75] [0.76042134, 0.7604212, 1.192093e-07, 0.0625, 1.0] [3.017519e-06, 1.0] [1.192093e-07, 1.0]\n",
      "45000 [0.8061779, 0.25] [0.67310166, 0.5] [0.7478827, 0.7478826, 1.192093e-07, 0.375, 1.0] [0.23363043, 0.875] [1.192093e-07, 1.0]\n",
      "50000 [0.8186554, 0.25] [0.85514337, 0.25] [0.6703974, 0.6703973, 1.192093e-07, 0.5625, 1.0] [0.32283783, 0.875] [1.192093e-07, 1.0]\n",
      "55000 [0.75755787, 0.25] [0.7683327, 0.125] [0.85750926, 0.85750914, 1.192093e-07, 0.0625, 1.0] [4.3288537e-06, 1.0] [9.015228e-07, 1.0]\n"
     ]
    }
   ],
   "source": [
    "if __name__ == '__main__':\n",
    "    train()"
   ]
  },
  {
   "cell_type": "markdown",
   "metadata": {},
   "source": [
    "### Generating Results from Trained Model"
   ]
  },
  {
   "cell_type": "code",
   "execution_count": 25,
   "metadata": {},
   "outputs": [
    {
     "data": {
      "image/png": "[encoded data removed]",
      "text/plain": [
       "<Figure size 432x288 with 50 Axes>"
      ]
     },
     "metadata": {
      "needs_background": "light"
     },
     "output_type": "display_data"
    }
   ],
   "source": [
    "import matplotlib.pyplot as plt\n",
    "\n",
    "r, c = 10, 5\n",
    "\n",
    "gen_imgs = []\n",
    "\n",
    "for indx in range(10):\n",
    "    \n",
    "    noise = np.random.normal(0, 1, (5, 100))\n",
    "    categorical_code = to_categorical([indx]*5, 10)\n",
    "    \n",
    "    input_noise = np.hstack((noise, categorical_code))\n",
    "    outs = generator_model.predict(input_noise)\n",
    "    gen_imgs.extend(outs)\n",
    "    \n",
    "# Rescale images 0 - 1\n",
    "gen_imgs = np.array(gen_imgs)\n",
    "gen_imgs = 0.5 * gen_imgs + 0.5\n",
    "fig, axs = plt.subplots(r, c)\n",
    "cnt = 0\n",
    "for i in range(r):\n",
    "    for j in range(c):\n",
    "        axs[i,j].imshow(gen_imgs[cnt, :,:,0], cmap='gray')\n",
    "        axs[i,j].axis('off')\n",
    "        cnt += 1\n",
    "        \n",
    "plt.show()\n",
    "fig.savefig(\"mnist.png\")\n",
    "plt.close()"
   ]
  },
  {
   "cell_type": "code",
   "execution_count": null,
   "metadata": {},
   "outputs": [],
   "source": []
  }
 ],
 "metadata": {
  "kernelspec": {
   "display_name": "Python 3",
   "language": "python",
   "name": "python3"
  },
  "language_info": {
   "codemirror_mode": {
    "name": "ipython",
    "version": 3
   },
   "file_extension": ".py",
   "mimetype": "text/x-python",
   "name": "python",
   "nbconvert_exporter": "python",
   "pygments_lexer": "ipython3",
   "version": "3.6.8"
  }
 },
 "nbformat": 4,
 "nbformat_minor": 2
}
